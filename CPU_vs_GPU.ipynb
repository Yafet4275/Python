{
  "nbformat": 4,
  "nbformat_minor": 0,
  "metadata": {
    "colab": {
      "provenance": [],
      "gpuType": "T4",
      "authorship_tag": "ABX9TyOo2wwBDkthaNA0wCiQhioX",
      "include_colab_link": true
    },
    "kernelspec": {
      "name": "python3",
      "display_name": "Python 3"
    },
    "language_info": {
      "name": "python"
    },
    "accelerator": "GPU"
  },
  "cells": [
    {
      "cell_type": "markdown",
      "metadata": {
        "id": "view-in-github",
        "colab_type": "text"
      },
      "source": [
        "<a href=\"https://colab.research.google.com/github/Yafet4275/Python/blob/main/CPU_vs_GPU.ipynb\" target=\"_parent\"><img src=\"https://colab.research.google.com/assets/colab-badge.svg\" alt=\"Open In Colab\"/></a>"
      ]
    },
    {
      "cell_type": "code",
      "execution_count": 2,
      "metadata": {
        "id": "EAq49ZOTX_OJ"
      },
      "outputs": [],
      "source": [
        "import time\n",
        "import os\n",
        "import tensorflow.compat.v1 as tf\n",
        "import numpy as np"
      ]
    },
    {
      "cell_type": "code",
      "source": [
        "# Array: SIZExSIZE\n",
        "SIZE = 500\n",
        "a = np.random.rand(SIZE, SIZE)\n",
        "b = np.random.rand(SIZE, SIZE)\n",
        "result = np.zeros((SIZE, SIZE))\n",
        "print('2 arrays if 500x500')\n",
        "# Check if there is gpus available\n",
        "gpus = tf.config.experimental.list_physical_devices('GPU')\n",
        "if gpus:\n",
        " print('GPU is available')\n",
        "else:\n",
        " print('GPU is not available')"
      ],
      "metadata": {
        "colab": {
          "base_uri": "https://localhost:8080/"
        },
        "id": "e723c7cBYTBR",
        "outputId": "5c5675de-a5c7-4e28-bc23-f1fc1ea8fcd9"
      },
      "execution_count": 3,
      "outputs": [
        {
          "output_type": "stream",
          "name": "stdout",
          "text": [
            "Producto de dos Matrices de orden 500x500\n",
            "GPU is available\n"
          ]
        }
      ]
    },
    {
      "cell_type": "code",
      "source": [
        "# Calculate time with CPU_python, CPU_numpy and tensorflow_GPU\n",
        "inicio = time.time()\n",
        "\n",
        "for i in range(SIZE):\n",
        " for j in range(SIZE):\n",
        "  for k in range(SIZE):\n",
        "    result[i,j] += a[i,k] * b[k,j]\n",
        "\n",
        "intervalo = time.time() - inicio\n",
        "print('CPU with Python in s = ',intervalo)\n",
        "# Caculate CPU and NUMPY\n",
        "inicio = time.time()\n",
        "result = np.dot(a,b)\n",
        "intervalo = time.time() - inicio\n",
        "\n",
        "print('CPU with Numpy in s = ',intervalo)\n",
        "# Calculate GPU and TENSORFLOW\n",
        "ta = tf.convert_to_tensor(a)\n",
        "tb = tf.convert_to_tensor(b)\n",
        "inicio = time.time()\n",
        "#result = tf.tensordot(a, b, axes =1, name=None)\n",
        "result = tf.math.multiply(ta,tb)\n",
        "intervalo = time.time() - inicio\n",
        "print('GPU with TensorFlow in s = ',intervalo)"
      ],
      "metadata": {
        "colab": {
          "base_uri": "https://localhost:8080/"
        },
        "id": "NZFemdqoZbZ5",
        "outputId": "d66219f9-af0a-4615-e3a4-2657eb3cdb05"
      },
      "execution_count": 4,
      "outputs": [
        {
          "output_type": "stream",
          "name": "stdout",
          "text": [
            "CPU con Python en s =  101.69746375083923\n",
            "CPU con Numpy en s =  0.01222848892211914\n",
            "GPU con TensorFlow en s =  0.009585380554199219\n"
          ]
        }
      ]
    }
  ]
}